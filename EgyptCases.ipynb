{
 "cells": [
  {
   "cell_type": "code",
   "execution_count": 1,
   "metadata": {},
   "outputs": [],
   "source": [
    "import requests\n",
    "from bs4 import BeautifulSoup\n",
    "from datetime import datetime\n",
    "import time"
   ]
  },
  {
   "cell_type": "code",
   "execution_count": null,
   "metadata": {},
   "outputs": [
    {
     "name": "stdout",
     "output_type": "stream",
     "text": [
      "Covid-19 report for today 06/09/2020 08:51 PM:\n",
      "-Today Cases: 130 new cases\n",
      "-Today Deaths: 16 new deaths\n",
      "------------------------------\n",
      "-Total Cases: 99712\n",
      "-Total Deaths: 5511\n",
      "-Recovered: 77208\n",
      "-Active Cases: 22504\n",
      "****************************************\n"
     ]
    }
   ],
   "source": [
    "while (True):\n",
    "    url = 'https://www.worldometers.info/coronavirus/country/egypt/'\n",
    "    response = requests.request('GET' , url)\n",
    "    soup = BeautifulSoup(response.text, 'html.parser')\n",
    "\n",
    "    nums = soup.find_all('div', attrs={'class': 'maincounter-number'})\n",
    "    total = nums[0].get_text().strip()\n",
    "    deaths = nums[1].get_text().strip()\n",
    "    recovered = nums[2].get_text().strip()\n",
    "\n",
    "    today = soup.find('li', attrs={'class': 'news_li'})\n",
    "    today_strong = today.find_all('strong')\n",
    "    today_cases = today_strong[0].get_text()\n",
    "    today_deaths = today_strong[1].get_text()\n",
    "\n",
    "    total = int(total.replace(\",\" , \"\"))\n",
    "    deaths = int(deaths.replace(\",\" , \"\"))\n",
    "    recovered = int(recovered.replace(\",\" , \"\"))\n",
    "    active = total - recovered\n",
    "\n",
    "    now = datetime.now()\n",
    "    time_now = now.strftime(\"%d/%m/%Y %I:%M %p\")\n",
    "\n",
    "    f = open('cases_log.txt', 'a')\n",
    "\n",
    "    print(\"Covid-19 report for today \" + time_now + \":\" + \"\\n\" + \"-Today Cases: \" + str(today_cases) + \"\\n\" + \"-Today Deaths: \" + str(today_deaths) + \"\\n\" + \"-\"*30 + \"\\n\" + \"-Total Cases: \" + str(total) + \"\\n\" + \"-Total Deaths: \" + str(deaths) + \"\\n\" + \"-Recovered: \" + str(recovered) + \"\\n\" + \"-Active Cases: \" + str(active) + \"\\n\" + \"*\"*40)\n",
    "    output = \"Covid-19 report for today \" + time_now + \":\" + \"\\n\" + \"-Today Cases: \" + str(today_cases) + \"\\n\" + \"-Today Deaths: \" + str(today_deaths) + \"\\n\" + \"-\"*30 + \"\\n\" + \"-Total Cases: \" + str(total) + \"\\n\" + \"-Total Deaths: \" + str(deaths) + \"\\n\" + \"-Recovered: \" + str(recovered) + \"\\n\" + \"-Active Cases: \" + str(active) + \"\\n\" + \"*\"*40 + \"\\n\"\n",
    "    f.write(output)\n",
    "    f.close()\n",
    "    time.sleep(21600)"
   ]
  },
  {
   "cell_type": "code",
   "execution_count": null,
   "metadata": {},
   "outputs": [],
   "source": []
  }
 ],
 "metadata": {
  "kernelspec": {
   "display_name": "Python 3",
   "language": "python",
   "name": "python3"
  },
  "language_info": {
   "codemirror_mode": {
    "name": "ipython",
    "version": 3
   },
   "file_extension": ".py",
   "mimetype": "text/x-python",
   "name": "python",
   "nbconvert_exporter": "python",
   "pygments_lexer": "ipython3",
   "version": "3.7.4"
  }
 },
 "nbformat": 4,
 "nbformat_minor": 4
}
